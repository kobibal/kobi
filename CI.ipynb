{
 "cells": [
  {
   "cell_type": "code",
   "execution_count": null,
   "id": "b9a39244-afa6-4c5b-9f9e-28468d631349",
   "metadata": {},
   "outputs": [],
   "source": [
    "def query_check(query):\n",
    "    client = boto3.client('athena', region_name='us-east-1')\n",
    "    response = client.start_query_execution(\n",
    "                QueryString=query,\n",
    "                QueryExecutionContext={'Database': \"temp_tables\"},\n",
    "                ResultConfiguration={'OutputLocation': f\"s3://bucket/aws-athena-ci\"},\n",
    "                WorkGroup='CI'\n",
    "        )\n",
    "    query_status_state = 'RUNNING'\n",
    "    while query_status_state == 'QUEUED' or query_status_state == 'RUNNING':\n",
    "        query_status = client.get_query_execution(QueryExecutionId=response[\"QueryExecutionId\"])['QueryExecution'][\"Status\"]\n",
    "        query_status_state = query_status[\"State\"]\n",
    "        if query_status_state == 'FAILED' or query_status_state == 'CANCELLED':\n",
    "            raise Exception(f'Failed query {query} with the following execption {query_status[\"StateChangeReason\"]}')\n",
    "        time.sleep(1)\n"
   ]
  },
  {
   "cell_type": "code",
   "execution_count": null,
   "id": "ae7af384-f5ed-4957-ada6-3c3c0777c9ef",
   "metadata": {},
   "outputs": [],
   "source": [
    "def test_queries_synatx():\n",
    "    with engine.connect() as con:\n",
    "        queries_list = glob.glob('**/*.sql',recursive=True)\n",
    "        for query_file in queries_list:\n",
    "            with open(query_file) as f:\n",
    "                query = f.read()\n",
    "                test_query = f\"Explain {query}\"\n",
    "                qc = query_check(test_query)\n"
   ]
  },
  {
   "cell_type": "code",
   "execution_count": null,
   "id": "98687934-0816-4d8c-9fa8-7083297985f2",
   "metadata": {},
   "outputs": [],
   "source": [
    "name: CI tests for MWAA\n",
    "on:\n",
    "  push:\n",
    "    branches:\n",
    "      - master\n",
    "  pull_request:\n",
    "    branches:\n",
    "      - master\n",
    "jobs:\n",
    "  unit-testing:\n",
    "    runs-on: ubuntu-latest\n",
    "    steps:\n",
    "      - name: Checkout repo content\n",
    "      uses: actions/checkout@v2 # checkout the repository content to github runner\n",
    "      - name: Set up Python 3.8\n",
    "      uses: actions/setup-python@v2\n",
    "      with:\n",
    "            python-version: 3.8\n",
    "      - name: Install Dependencies\n",
    "        run: |\n",
    "          python -m pip install -r deploy/ci_requirements.txt\n",
    "      - name: Test with pytest\n",
    "        run: |\n",
    "          pytest ."
   ]
  }
 ],
 "metadata": {
  "kernelspec": {
   "display_name": "Python 3 (ipykernel)",
   "language": "python",
   "name": "python3"
  },
  "language_info": {
   "codemirror_mode": {
    "name": "ipython",
    "version": 3
   },
   "file_extension": ".py",
   "mimetype": "text/x-python",
   "name": "python",
   "nbconvert_exporter": "python",
   "pygments_lexer": "ipython3",
   "version": "3.9.7"
  }
 },
 "nbformat": 4,
 "nbformat_minor": 5
}
